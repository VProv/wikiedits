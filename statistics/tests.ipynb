{
 "cells": [
  {
   "cell_type": "code",
   "execution_count": 1,
   "metadata": {},
   "outputs": [
    {
     "name": "stdout",
     "output_type": "stream",
     "text": [
      "[nltk_data] Downloading package stopwords to /home/ubuntu/nltk_data...\n",
      "[nltk_data]   Package stopwords is already up-to-date!\n",
      "[nltk_data] Downloading package punkt to /home/ubuntu/nltk_data...\n",
      "[nltk_data]   Package punkt is already up-to-date!\n"
     ]
    }
   ],
   "source": [
    "import pandas as pd\n",
    "import sys\n",
    "import Levenshtein\n",
    "from  textprepare import TextColumnPrepare\n",
    "from Levenshtein import *\n",
    "from tqdm import tqdm\n",
    "import pickle\n",
    "import numpy as np\n",
    "import matplotlib.pyplot as plt\n",
    "%matplotlib inline\n",
    "# Total length 28588505"
   ]
  },
  {
   "cell_type": "code",
   "execution_count": 12,
   "metadata": {
    "collapsed": true
   },
   "outputs": [],
   "source": [
    "TOTAL_LEN = 28588505\n",
    "def readedits(fileerror, filecorrect, id_from=0, id_to=0, col_prep=TextColumnPrepare(), read_all=False):\n",
    "    if read_all == False:\n",
    "        data = []\n",
    "        with open(fileerror, 'r') as erf:\n",
    "            with open(filecorrect, 'r') as cor:\n",
    "                i = 0\n",
    "                while i < id_to:\n",
    "                    if i >= id_from:\n",
    "                        data.append([col_prep.prepare_string(erf.readline()), \n",
    "                                     col_prep.prepare_string(cor.readline())])\n",
    "                    else:\n",
    "                        erf.readline()\n",
    "                        cof.readline()\n",
    "                    i +=1\n",
    "    else:\n",
    "        data = []\n",
    "        with open(fileerror, 'r') as erf:\n",
    "            with open(filecorrect, 'r') as cor:\n",
    "                l_er = erf.readlines()\n",
    "                l_co = cor.readlines()\n",
    "                for ers, cos in tqdm(zip(l_er, l_co)):\n",
    "                    data.append([col_prep.prepare_string(ers), col_prep.prepare_string(cos)])\n",
    "    return data"
   ]
  },
  {
   "cell_type": "code",
   "execution_count": 13,
   "metadata": {},
   "outputs": [
    {
     "name": "stderr",
     "output_type": "stream",
     "text": [
      "28588505it [2:59:54, 2648.34it/s]"
     ]
    },
    {
     "name": "stdout",
     "output_type": "stream",
     "text": [
      "CPU times: user 2h 52min 59s, sys: 8min 19s, total: 3h 1min 18s\n",
      "Wall time: 3h 23s\n"
     ]
    },
    {
     "name": "stderr",
     "output_type": "stream",
     "text": [
      "\n"
     ]
    }
   ],
   "source": [
    "%%time\n",
    "data = readedits('wiked.tok.err', 'wiked.tok.cor', 0, TOTAL_LEN, read_all=True)"
   ]
  },
  {
   "cell_type": "code",
   "execution_count": null,
   "metadata": {
    "collapsed": true
   },
   "outputs": [],
   "source": [
    "data[150]"
   ]
  },
  {
   "cell_type": "code",
   "execution_count": null,
   "metadata": {
    "collapsed": true
   },
   "outputs": [],
   "source": [
    "# SAVE!!!"
   ]
  },
  {
   "cell_type": "code",
   "execution_count": 14,
   "metadata": {
    "collapsed": true
   },
   "outputs": [],
   "source": [
    "pickle.dump(data, open( \"read_data.p\", \"wb\" ))"
   ]
  },
  {
   "cell_type": "code",
   "execution_count": 16,
   "metadata": {},
   "outputs": [
    {
     "name": "stdout",
     "output_type": "stream",
     "text": [
      "README.md    requirements.txt  wiked-v1.0.en.prepro.tgz\r\n",
      "__pycache__  tests.ipynb       wiked.tok.cor\r\n",
      "read_data.p  textprepare.py    wiked.tok.err\r\n"
     ]
    }
   ],
   "source": []
  },
  {
   "cell_type": "code",
   "execution_count": 2,
   "metadata": {},
   "outputs": [],
   "source": [
    "data = pickle.load( open( \"read_data.p\", \"rb\" ) )"
   ]
  },
  {
   "cell_type": "code",
   "execution_count": 3,
   "metadata": {},
   "outputs": [
    {
     "name": "stderr",
     "output_type": "stream",
     "text": [
      "100%|██████████| 28588505/28588505 [04:18<00:00, 110550.10it/s]\n"
     ]
    }
   ],
   "source": [
    "lens = np.zeros((15,))\n",
    "# Collect distribution of lengths of words.\n",
    "for pair in tqdm(data):\n",
    "    for word in pair[0].split():\n",
    "        l = len(word)\n",
    "        if l < 15:\n",
    "            lens[l] += 1"
   ]
  },
  {
   "cell_type": "code",
   "execution_count": 4,
   "metadata": {},
   "outputs": [
    {
     "name": "stderr",
     "output_type": "stream",
     "text": [
      "No handles with labels found to put in legend.\n"
     ]
    },
    {
     "data": {
      "image/png": "[encoded data removed]",
      "text/plain": [
       "<Figure size 576x576 with 1 Axes>"
      ]
     },
     "metadata": {
      "needs_background": "light"
     },
     "output_type": "display_data"
    }
   ],
   "source": [
    "plt.figure(figsize=(8,8))\n",
    "plt.title(\"Distribution of lengths of words\")\n",
    "plt.scatter(np.arange(0,15), lens)\n",
    "plt.xlabel(r'length')\n",
    "plt.ylabel(r'number of words')\n",
    "plt.legend(fontsize=15,loc=3)\n",
    "plt.show()"
   ]
  },
  {
   "cell_type": "code",
   "execution_count": 28,
   "metadata": {
    "collapsed": true
   },
   "outputs": [],
   "source": [
    "del data"
   ]
  },
  {
   "cell_type": "code",
   "execution_count": 9,
   "metadata": {},
   "outputs": [
    {
     "data": {
      "text/plain": [
       "[('insert', 1, 1),\n",
       " ('insert', 1, 2),\n",
       " ('insert', 3, 5),\n",
       " ('delete', 6, 9),\n",
       " ('delete', 7, 9)]"
      ]
     },
     "execution_count": 9,
     "metadata": {},
     "output_type": "execute_result"
    }
   ],
   "source": [
    "editops('setingss', 'something')"
   ]
  },
  {
   "cell_type": "code",
   "execution_count": 19,
   "metadata": {
    "collapsed": true
   },
   "outputs": [],
   "source": [
    "def get_statistis_words(data, max_distance=3):\n",
    "    res_words = []\n",
    "    for i, line in tqdm(enumerate(data)):\n",
    "        errsent = line[0].split()\n",
    "        corsent = line[1].split()\n",
    "        for errw in errsent:\n",
    "            for corw in corsent:\n",
    "                # Remove small words\n",
    "                if (len(errw) < 2) or (len(corw) < 2):\n",
    "                    continue\n",
    "                # Remove digits\n",
    "                if errw.isdigit() or corw.isdigit():\n",
    "                    continue\n",
    "                # Distance from Levenstein\n",
    "                d = distance(errw, corw) \n",
    "                if (d > 0) and d < max_distance:\n",
    "                    res_words.append([errw, corw])\n",
    "    return res_words"
   ]
  },
  {
   "cell_type": "code",
   "execution_count": 20,
   "metadata": {},
   "outputs": [
    {
     "name": "stderr",
     "output_type": "stream",
     "text": [
      "28588505it [1:05:37, 7261.11it/s]\n"
     ]
    }
   ],
   "source": [
    "pairs = get_statistis_words(data)"
   ]
  },
  {
   "cell_type": "code",
   "execution_count": 21,
   "metadata": {
    "collapsed": true
   },
   "outputs": [],
   "source": [
    "pickle.dump(pairs, open('pairs.p', 'wb'))"
   ]
  },
  {
   "cell_type": "code",
   "execution_count": 5,
   "metadata": {},
   "outputs": [],
   "source": [
    "pairs = pickle.load( open( \"pairs.p\", \"rb\" ) )"
   ]
  },
  {
   "cell_type": "code",
   "execution_count": null,
   "metadata": {},
   "outputs": [],
   "source": []
  },
  {
   "cell_type": "code",
   "execution_count": 6,
   "metadata": {},
   "outputs": [
    {
     "name": "stderr",
     "output_type": "stream",
     "text": [
      "100%|██████████| 47927404/47927404 [00:44<00:00, 1081648.82it/s]\n"
     ]
    }
   ],
   "source": [
    "# Collect distribution of lengths of words with typos.\n",
    "typo_lens = np.zeros((15,))\n",
    "for pair in tqdm(pairs):\n",
    "    l = len(pair[0])\n",
    "    if l < 15:\n",
    "        typo_lens[l] += 1"
   ]
  },
  {
   "cell_type": "code",
   "execution_count": 7,
   "metadata": {},
   "outputs": [
    {
     "name": "stderr",
     "output_type": "stream",
     "text": [
      "No handles with labels found to put in legend.\n"
     ]
    },
    {
     "data": {
      "image/png": "[encoded data removed]",
      "text/plain": [
       "<Figure size 576x576 with 1 Axes>"
      ]
     },
     "metadata": {
      "needs_background": "light"
     },
     "output_type": "display_data"
    }
   ],
   "source": [
    "plt.figure(figsize=(8,8))\n",
    "plt.title(\"Distribution of lengths of words\")\n",
    "plt.scatter(np.arange(0,15), lens, c='b')\n",
    "plt.scatter(np.arange(0,15), typo_lens, c='r')\n",
    "plt.xlabel(r'length')\n",
    "plt.ylabel(r'number of words')\n",
    "plt.legend(fontsize=15,loc=3)\n",
    "plt.show()"
   ]
  },
  {
   "cell_type": "code",
   "execution_count": 8,
   "metadata": {},
   "outputs": [],
   "source": [
    "del lens\n",
    "del typo_lens"
   ]
  },
  {
   "cell_type": "code",
   "execution_count": 9,
   "metadata": {},
   "outputs": [
    {
     "data": {
      "text/plain": [
       "2409"
      ]
     },
     "execution_count": 9,
     "metadata": {},
     "output_type": "execute_result"
    }
   ],
   "source": [
    "import gc\n",
    "gc.collect()"
   ]
  },
  {
   "cell_type": "markdown",
   "metadata": {
    "collapsed": true
   },
   "source": [
    "### Что интересно: \n",
    "    1) С какой вероятностью делать dropout буквы?\n",
    "    2) С какой вероятностью делать insert буквы?\n",
    "    3) Как распределены опечатки по длине?\n",
    "    4) Как удобно делать embedding-и устойчивые к опечаткам?\n",
    "    5) Как можно это применять к char алгоритмам?"
   ]
  },
  {
   "cell_type": "code",
   "execution_count": 9,
   "metadata": {
    "collapsed": true
   },
   "outputs": [],
   "source": [
    "def collect_statistics(pairs):\n",
    "    less_5 = []\n",
    "    longer_5 = []\n",
    "    for pair in tqdm(pairs):\n",
    "        # Set equal length\n",
    "        l1 = len(pair[0])\n",
    "        l2 = len(pair[1])\n",
    "        dif = l1 - l2\n",
    "        if dif > 0:\n",
    "            for i in range(dif):\n",
    "                pair[1]+= '0'\n",
    "        if dif < 0:\n",
    "            for i in range(abs(dif)):\n",
    "                pair[0] += '0'\n",
    "                \n",
    "        if l1 < 5 and l2 < 5:\n",
    "            for j, s in enumerate(pair[0]):\n",
    "                if s != pair[1][j]:\n",
    "                    less_5.append(j)\n",
    "        else:\n",
    "            for j, s in enumerate(pair[0]):\n",
    "                if s != pair[1][j]:\n",
    "                    longer_5.append(j)\n",
    "    return less_5, longer_5"
   ]
  },
  {
   "cell_type": "code",
   "execution_count": 10,
   "metadata": {},
   "outputs": [],
   "source": [
    "def collect_complex_statistics(pairs):\n",
    "    \"\"\"\n",
    "    Parameters\n",
    "    \n",
    "    pairs: list of pairs,\n",
    "        first element with errors, second element is correct.\n",
    "    \n",
    "    Return\n",
    "    statistic: list of info \n",
    "        index 0: ind\n",
    "        index 1: length of correct word\n",
    "        index 2: 0 - delete 1- insert\n",
    "        index 3: position of edit\n",
    "    \"\"\"\n",
    "    statistic = []\n",
    "    for i, pair in tqdm(enumerate(pairs)):\n",
    "        l1 = len(pair[0])\n",
    "        l2 = len(pair[1])\n",
    "        edit_seq = editops(pair[0], pair[1])\n",
    "        for edit in edit_seq:\n",
    "            if edit[0] == 'delete':\n",
    "                statistic.append([i, l2, 0, edit[1]])\n",
    "            if edit[0] == 'insert':\n",
    "                statistic.append([i, l2, 1, edit[1]])\n",
    "    return statistic"
   ]
  },
  {
   "cell_type": "code",
   "execution_count": 11,
   "metadata": {},
   "outputs": [
    {
     "name": "stderr",
     "output_type": "stream",
     "text": [
      "47927404it [01:27, 546926.69it/s]\n"
     ]
    }
   ],
   "source": [
    "complex_statistic = collect_complex_statistics(pairs)"
   ]
  },
  {
   "cell_type": "code",
   "execution_count": 13,
   "metadata": {},
   "outputs": [],
   "source": [
    "del data"
   ]
  },
  {
   "cell_type": "code",
   "execution_count": 14,
   "metadata": {},
   "outputs": [],
   "source": [
    "del pairs"
   ]
  },
  {
   "cell_type": "code",
   "execution_count": 15,
   "metadata": {},
   "outputs": [],
   "source": [
    "complex_statistic = np.array(complex_statistic)"
   ]
  },
  {
   "cell_type": "code",
   "execution_count": 16,
   "metadata": {},
   "outputs": [
    {
     "data": {
      "text/plain": [
       "(31661411, 4)"
      ]
     },
     "execution_count": 16,
     "metadata": {},
     "output_type": "execute_result"
    }
   ],
   "source": [
    "complex_statistic.shape"
   ]
  },
  {
   "cell_type": "code",
   "execution_count": 18,
   "metadata": {},
   "outputs": [],
   "source": [
    "insert = complex_statistic[np.where(complex_statistic[:, 2] == 1)]"
   ]
  },
  {
   "cell_type": "code",
   "execution_count": 20,
   "metadata": {},
   "outputs": [],
   "source": [
    "insert_dist = insert[:, 3]"
   ]
  },
  {
   "cell_type": "code",
   "execution_count": 36,
   "metadata": {},
   "outputs": [
    {
     "data": {
      "text/plain": [
       "Text(0.5,1,'Dropout distribution')"
      ]
     },
     "execution_count": 36,
     "metadata": {},
     "output_type": "execute_result"
    },
    {
     "data": {
      "image/png": "[encoded data removed]",
      "text/plain": [
       "<Figure size 432x288 with 1 Axes>"
      ]
     },
     "metadata": {
      "needs_background": "light"
     },
     "output_type": "display_data"
    }
   ],
   "source": [
    "# For dropout\n",
    "plt.hist(insert_dist, bins=np.arange(1,11))\n",
    "plt.title(\"Dropout distribution\")"
   ]
  },
  {
   "cell_type": "code",
   "execution_count": 29,
   "metadata": {},
   "outputs": [],
   "source": [
    "delete = complex_statistic[np.where(complex_statistic[:, 2] == 0)]"
   ]
  },
  {
   "cell_type": "code",
   "execution_count": 30,
   "metadata": {},
   "outputs": [],
   "source": [
    "delete_dist = delete[:, 3]"
   ]
  },
  {
   "cell_type": "code",
   "execution_count": 35,
   "metadata": {},
   "outputs": [
    {
     "data": {
      "text/plain": [
       "Text(0.5,1,'Insert distribution')"
      ]
     },
     "execution_count": 35,
     "metadata": {},
     "output_type": "execute_result"
    },
    {
     "data": {
      "image/png": "[encoded data removed]",
      "text/plain": [
       "<Figure size 432x288 with 1 Axes>"
      ]
     },
     "metadata": {
      "needs_background": "light"
     },
     "output_type": "display_data"
    }
   ],
   "source": [
    "# For insert\n",
    "plt.hist(delete_dist, bins=np.arange(1,11))\n",
    "plt.title(\"Insert distribution\")"
   ]
  },
  {
   "cell_type": "code",
   "execution_count": 33,
   "metadata": {},
   "outputs": [
    {
     "data": {
      "text/plain": [
       "Text(0.5,1,'Typo words length distribution')"
      ]
     },
     "execution_count": 33,
     "metadata": {},
     "output_type": "execute_result"
    },
    {
     "data": {
      "image/png": "[encoded data removed]",
      "text/plain": [
       "<Figure size 432x288 with 1 Axes>"
      ]
     },
     "metadata": {
      "needs_background": "light"
     },
     "output_type": "display_data"
    }
   ],
   "source": [
    "plt.hist(complex_statistic[:, 1], bins=np.arange(1,11))\n",
    "plt.title(\"Typo words length distribution\")"
   ]
  },
  {
   "cell_type": "code",
   "execution_count": null,
   "metadata": {},
   "outputs": [],
   "source": []
  },
  {
   "cell_type": "code",
   "execution_count": null,
   "metadata": {},
   "outputs": [],
   "source": []
  },
  {
   "cell_type": "code",
   "execution_count": null,
   "metadata": {},
   "outputs": [],
   "source": []
  },
  {
   "cell_type": "code",
   "execution_count": null,
   "metadata": {},
   "outputs": [],
   "source": []
  },
  {
   "cell_type": "code",
   "execution_count": 10,
   "metadata": {},
   "outputs": [
    {
     "name": "stderr",
     "output_type": "stream",
     "text": [
      "100%|██████████| 47927404/47927404 [02:04<00:00, 384891.94it/s]\n"
     ]
    }
   ],
   "source": [
    "less_5, longer_5 = collect_statistics(pairs)"
   ]
  },
  {
   "cell_type": "code",
   "execution_count": 31,
   "metadata": {
    "collapsed": true
   },
   "outputs": [],
   "source": [
    "import numpy as np\n",
    "from matplotlib import pyplot as plt\n",
    "%matplotlib inline"
   ]
  },
  {
   "cell_type": "code",
   "execution_count": 37,
   "metadata": {
    "collapsed": true
   },
   "outputs": [],
   "source": [
    "h1 = np.histogram(less_5, bins=4)\n",
    "h2 = np.histogram(longer_5, bins=5)"
   ]
  },
  {
   "cell_type": "code",
   "execution_count": 41,
   "metadata": {},
   "outputs": [
    {
     "data": {
      "text/plain": [
       "(array([50232487,      344,       78,       15,        3]),\n",
       " array([   0. ,   31.8,   63.6,   95.4,  127.2,  159. ]))"
      ]
     },
     "execution_count": 41,
     "metadata": {},
     "output_type": "execute_result"
    }
   ],
   "source": [
    "h2"
   ]
  },
  {
   "cell_type": "code",
   "execution_count": 34,
   "metadata": {},
   "outputs": [
    {
     "data": {
      "text/plain": [
       "(array([ 19351456.,         0.,         0.,  16990217.,         0.,\n",
       "                0.,  17088530.,         0.,         0.,   9168959.]),\n",
       " array([ 0. ,  0.3,  0.6,  0.9,  1.2,  1.5,  1.8,  2.1,  2.4,  2.7,  3. ]),\n",
       " <a list of 10 Patch objects>)"
      ]
     },
     "execution_count": 34,
     "metadata": {},
     "output_type": "execute_result"
    },
    {
     "data": {
      "image/png": "[encoded data removed]",
      "text/plain": [
       "<matplotlib.figure.Figure at 0x7fdb557b5cf8>"
      ]
     },
     "metadata": {},
     "output_type": "display_data"
    }
   ],
   "source": [
    "plt.hist(less_5)"
   ]
  },
  {
   "cell_type": "code",
   "execution_count": 43,
   "metadata": {},
   "outputs": [
    {
     "data": {
      "text/plain": [
       "(array([ 4145208.,  5779184.,  6665539.,  9363600.,  6025362.,  4820540.,\n",
       "         3466172.,  2297860.,  2204960.]),\n",
       " array([ 1,  2,  3,  4,  5,  6,  7,  8,  9, 10]),\n",
       " <a list of 9 Patch objects>)"
      ]
     },
     "execution_count": 43,
     "metadata": {},
     "output_type": "execute_result"
    },
    {
     "data": {
      "image/png": "[encoded data removed]",
      "text/plain": [
       "<matplotlib.figure.Figure at 0x7fdb530fd438>"
      ]
     },
     "metadata": {},
     "output_type": "display_data"
    }
   ],
   "source": [
    "plt.hist(longer_5, bins=[1,2,3,4,5,6,7,8,9,10])"
   ]
  },
  {
   "cell_type": "code",
   "execution_count": 50,
   "metadata": {
    "collapsed": true
   },
   "outputs": [],
   "source": [
    "bins = [1,2,3,4,5,6,7,8,9,10]"
   ]
  },
  {
   "cell_type": "code",
   "execution_count": 57,
   "metadata": {},
   "outputs": [
    {
     "data": {
      "image/png": "[encoded data removed]",
      "text/plain": [
       "<matplotlib.figure.Figure at 0x7fdb4c792b38>"
      ]
     },
     "metadata": {},
     "output_type": "display_data"
    }
   ],
   "source": [
    "val = plt.hist(less_5 + longer_5, bins=[1,2,3,4,5,6,7,8,9,10], normed=True)"
   ]
  },
  {
   "cell_type": "code",
   "execution_count": 45,
   "metadata": {
    "collapsed": true
   },
   "outputs": [],
   "source": [
    "mean = np.mean(less_5 + longer_5)"
   ]
  },
  {
   "cell_type": "code",
   "execution_count": 46,
   "metadata": {},
   "outputs": [
    {
     "data": {
      "text/plain": [
       "2.5162076809550165"
      ]
     },
     "execution_count": 46,
     "metadata": {},
     "output_type": "execute_result"
    }
   ],
   "source": [
    "mean"
   ]
  },
  {
   "cell_type": "code",
   "execution_count": 47,
   "metadata": {
    "collapsed": true
   },
   "outputs": [],
   "source": [
    "from scipy.stats import poisson"
   ]
  },
  {
   "cell_type": "code",
   "execution_count": 53,
   "metadata": {
    "collapsed": true
   },
   "outputs": [],
   "source": [
    "pois_pmf = poisson.pmf(bins, mean)"
   ]
  },
  {
   "cell_type": "code",
   "execution_count": 63,
   "metadata": {},
   "outputs": [
    {
     "data": {
      "text/plain": [
       "array([ 0.24013127,  0.25981276,  0.1799045 ,  0.10638504,  0.06845747,\n",
       "        0.05476882,  0.0393811 ,  0.02610726,  0.02505177])"
      ]
     },
     "execution_count": 63,
     "metadata": {},
     "output_type": "execute_result"
    }
   ],
   "source": [
    "val[0]"
   ]
  },
  {
   "cell_type": "code",
   "execution_count": 62,
   "metadata": {},
   "outputs": [
    {
     "data": {
      "text/plain": [
       "10"
      ]
     },
     "execution_count": 62,
     "metadata": {},
     "output_type": "execute_result"
    }
   ],
   "source": [
    "len(bins)"
   ]
  },
  {
   "cell_type": "code",
   "execution_count": 70,
   "metadata": {},
   "outputs": [
    {
     "data": {
      "image/png": "[encoded data removed]",
      "text/plain": [
       "<matplotlib.figure.Figure at 0x7fdb48749dd8>"
      ]
     },
     "metadata": {},
     "output_type": "display_data"
    }
   ],
   "source": [
    "fig = plt.figure(figsize=(10,10))\n",
    "plt.plot(bins[:-1], pois_pmf[:-1], color='r', label=r'Pois')\n",
    "plt.plot(bins[:-1], val[0], label=r'Ours')\n",
    "plt.legend(fontsize=15,loc=3)\n",
    "plt.show()"
   ]
  },
  {
   "cell_type": "code",
   "execution_count": 71,
   "metadata": {
    "collapsed": true
   },
   "outputs": [],
   "source": [
    "import scipy.stats as stats"
   ]
  },
  {
   "cell_type": "code",
   "execution_count": 74,
   "metadata": {
    "collapsed": true
   },
   "outputs": [],
   "source": [
    "from scipy.stats import chi2_contingency"
   ]
  },
  {
   "cell_type": "code",
   "execution_count": 75,
   "metadata": {
    "collapsed": true
   },
   "outputs": [],
   "source": [
    "import random"
   ]
  },
  {
   "cell_type": "code",
   "execution_count": 89,
   "metadata": {
    "collapsed": true
   },
   "outputs": [],
   "source": [
    "h1_res = np.histogram(random.sample(less_5+longer_5, 1000000), bins=[1,2,3,4,5,6,7,9,np.inf])"
   ]
  },
  {
   "cell_type": "code",
   "execution_count": 98,
   "metadata": {
    "collapsed": true
   },
   "outputs": [],
   "source": [
    "h2_res = np.histogram(stats.poisson.rvs(mean, size=1000000), bins=[1,2,3,4,5,6,7,9,np.inf])"
   ]
  },
  {
   "cell_type": "code",
   "execution_count": 99,
   "metadata": {},
   "outputs": [
    {
     "data": {
      "text/plain": [
       "(array([187307, 202539, 140066,  83206,  53411,  42840,  50812,  27041]),\n",
       " array([  1.,   2.,   3.,   4.,   5.,   6.,   7.,   9.,  inf]))"
      ]
     },
     "execution_count": 99,
     "metadata": {},
     "output_type": "execute_result"
    }
   ],
   "source": [
    "h1_res"
   ]
  },
  {
   "cell_type": "code",
   "execution_count": 100,
   "metadata": {},
   "outputs": [
    {
     "data": {
      "text/plain": [
       "(array([202853, 255388, 215219, 134670,  68013,  28604,  13461,   1230]),\n",
       " array([  1.,   2.,   3.,   4.,   5.,   6.,   7.,   9.,  inf]))"
      ]
     },
     "execution_count": 100,
     "metadata": {},
     "output_type": "execute_result"
    }
   ],
   "source": [
    "h2_res"
   ]
  },
  {
   "cell_type": "code",
   "execution_count": 101,
   "metadata": {
    "collapsed": true
   },
   "outputs": [],
   "source": [
    "stat, p, dof, expected = chi2_contingency([h1_res[0],\n",
    "                                          h2_res[0]])"
   ]
  },
  {
   "cell_type": "code",
   "execution_count": 102,
   "metadata": {},
   "outputs": [
    {
     "name": "stdout",
     "output_type": "stream",
     "text": [
      "stat:  74841.7588199\n",
      "p:  0.0\n",
      "dof:  7\n",
      "expected:  [[ 179967.03240247  211225.55681507  163880.42625362  100498.5061301\n",
      "    56008.60401486   32954.5946867    29646.86557721   13040.41411998]\n",
      " [ 210192.96759753  246701.44318493  191404.57374638  117377.4938699\n",
      "    65415.39598514   38489.4053133    34626.13442279   15230.58588002]]\n"
     ]
    }
   ],
   "source": [
    "print(\"stat: \", stat)\n",
    "print(\"p: \", p)\n",
    "print(\"dof: \", dof)\n",
    "print(\"expected: \", expected)"
   ]
  },
  {
   "cell_type": "code",
   "execution_count": 104,
   "metadata": {},
   "outputs": [
    {
     "name": "stdout",
     "output_type": "stream",
     "text": [
      "0.924794730891\n",
      "1.44602544515\n",
      "1.68336418047\n",
      "1.55784388984\n",
      "1.24675536881\n",
      "0.843107927261\n",
      "1.87907251951\n"
     ]
    }
   ],
   "source": [
    "for i, num in enumerate(h1_res[0][:-1]):\n",
    "    print(num/h1_res[0][i+1])"
   ]
  },
  {
   "cell_type": "code",
   "execution_count": null,
   "metadata": {
    "collapsed": true
   },
   "outputs": [],
   "source": []
  },
  {
   "cell_type": "code",
   "execution_count": null,
   "metadata": {
    "collapsed": true
   },
   "outputs": [],
   "source": []
  },
  {
   "cell_type": "code",
   "execution_count": null,
   "metadata": {
    "collapsed": true
   },
   "outputs": [],
   "source": []
  },
  {
   "cell_type": "code",
   "execution_count": null,
   "metadata": {
    "collapsed": true
   },
   "outputs": [],
   "source": []
  },
  {
   "cell_type": "code",
   "execution_count": null,
   "metadata": {
    "collapsed": true
   },
   "outputs": [],
   "source": []
  }
 ],
 "metadata": {
  "kernelspec": {
   "display_name": "Python [default]",
   "language": "python",
   "name": "python3"
  },
  "language_info": {
   "codemirror_mode": {
    "name": "ipython",
    "version": 3
   },
   "file_extension": ".py",
   "mimetype": "text/x-python",
   "name": "python",
   "nbconvert_exporter": "python",
   "pygments_lexer": "ipython3",
   "version": "3.5.6"
  }
 },
 "nbformat": 4,
 "nbformat_minor": 2
}
