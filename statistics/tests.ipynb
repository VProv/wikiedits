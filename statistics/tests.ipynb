{
 "cells": [
  {
   "cell_type": "code",
   "execution_count": 3,
   "metadata": {},
   "outputs": [
    {
     "name": "stdout",
     "output_type": "stream",
     "text": [
      "[nltk_data] Downloading package stopwords to /home/ubuntu/nltk_data...\n",
      "[nltk_data]   Unzipping corpora/stopwords.zip.\n",
      "[nltk_data] Downloading package punkt to /home/ubuntu/nltk_data...\n",
      "[nltk_data]   Unzipping tokenizers/punkt.zip.\n"
     ]
    }
   ],
   "source": [
    "import pandas as pd\n",
    "import sys\n",
    "import Levenshtein\n",
    "from  textprepare import TextColumnPrepare\n",
    "from Levenshtein import *\n",
    "# Total length 28588505"
   ]
  },
  {
   "cell_type": "code",
   "execution_count": 10,
   "metadata": {},
   "outputs": [],
   "source": [
    "from tqdm import tqdm"
   ]
  },
  {
   "cell_type": "code",
   "execution_count": 12,
   "metadata": {
    "collapsed": true
   },
   "outputs": [],
   "source": [
    "TOTAL_LEN = 28588505\n",
    "def readedits(fileerror, filecorrect, id_from=0, id_to=0, col_prep=TextColumnPrepare(), read_all=False):\n",
    "    if read_all == False:\n",
    "        data = []\n",
    "        with open(fileerror, 'r') as erf:\n",
    "            with open(filecorrect, 'r') as cor:\n",
    "                i = 0\n",
    "                while i < id_to:\n",
    "                    if i >= id_from:\n",
    "                        data.append([col_prep.prepare_string(erf.readline()), \n",
    "                                     col_prep.prepare_string(cor.readline())])\n",
    "                    else:\n",
    "                        erf.readline()\n",
    "                        cof.readline()\n",
    "                    i +=1\n",
    "    else:\n",
    "        data = []\n",
    "        with open(fileerror, 'r') as erf:\n",
    "            with open(filecorrect, 'r') as cor:\n",
    "                l_er = erf.readlines()\n",
    "                l_co = cor.readlines()\n",
    "                for ers, cos in tqdm(zip(l_er, l_co)):\n",
    "                    data.append([col_prep.prepare_string(ers), col_prep.prepare_string(cos)])\n",
    "    return data"
   ]
  },
  {
   "cell_type": "code",
   "execution_count": null,
   "metadata": {},
   "outputs": [
    {
     "name": "stderr",
     "output_type": "stream",
     "text": [
      "25072215it [2:37:37, 2654.51it/s]"
     ]
    }
   ],
   "source": [
    "%%time\n",
    "data = readedits('wiked.tok.err', 'wiked.tok.cor', 0, TOTAL_LEN, read_all=True)"
   ]
  },
  {
   "cell_type": "code",
   "execution_count": null,
   "metadata": {},
   "outputs": [],
   "source": [
    "data[150]"
   ]
  },
  {
   "cell_type": "code",
   "execution_count": null,
   "metadata": {
    "collapsed": true
   },
   "outputs": [],
   "source": [
    "# SAVE!!!"
   ]
  },
  {
   "cell_type": "code",
   "execution_count": null,
   "metadata": {
    "collapsed": true
   },
   "outputs": [],
   "source": []
  },
  {
   "cell_type": "code",
   "execution_count": 6,
   "metadata": {
    "collapsed": true
   },
   "outputs": [],
   "source": [
    "def get_statistis_words(data, max_distance=3):\n",
    "    res_words = []\n",
    "    for i, line in enumerate(data):\n",
    "        errsent = line[0].split()\n",
    "        corsent = line[1].split()\n",
    "        for errw in errsent:\n",
    "            for corw in corsent:\n",
    "                # Remove small words\n",
    "                if (len(errw) < 2) or (len(corw) < 2):\n",
    "                    continue\n",
    "                # Remove digits\n",
    "                if errw.isdigit() or corw.isdigit():\n",
    "                    continue\n",
    "                d = distance(errw, corw) \n",
    "                if (d > 0) and d < max_distance:\n",
    "                    res_words.append([errw, corw])\n",
    "    return res_words"
   ]
  },
  {
   "cell_type": "code",
   "execution_count": 7,
   "metadata": {
    "collapsed": true
   },
   "outputs": [],
   "source": [
    "pairs = get_statistis_words(data)"
   ]
  },
  {
   "cell_type": "code",
   "execution_count": 13,
   "metadata": {},
   "outputs": [
    {
     "data": {
      "text/plain": [
       "75"
      ]
     },
     "execution_count": 13,
     "metadata": {},
     "output_type": "execute_result"
    }
   ],
   "source": [
    "import gc\n",
    "gc.collect()"
   ]
  },
  {
   "cell_type": "code",
   "execution_count": 28,
   "metadata": {
    "collapsed": true
   },
   "outputs": [],
   "source": [
    "def collect_statistics(pairs):\n",
    "    less_5 = []\n",
    "    longer_5 = []\n",
    "    for pair in pairs:\n",
    "        # Set equal length\n",
    "        l1 = len(pair[0])\n",
    "        l2 = len(pair[1])\n",
    "        dif = l1 - l2\n",
    "        if dif > 0:\n",
    "            for i in range(dif):\n",
    "                pair[1]+= '0'\n",
    "        if dif < 0:\n",
    "            for i in range(abs(dif)):\n",
    "                pair[0] += '0'\n",
    "                \n",
    "        if l1 < 5 and l2 < 5:\n",
    "            for j, s in enumerate(pair[0]):\n",
    "                if s != pair[1][j]:\n",
    "                    less_5.append(j)\n",
    "        else:\n",
    "            for j, s in enumerate(pair[0]):\n",
    "                if s != pair[1][j]:\n",
    "                    longer_5.append(j)\n",
    "    return less_5, longer_5"
   ]
  },
  {
   "cell_type": "code",
   "execution_count": 29,
   "metadata": {
    "collapsed": true
   },
   "outputs": [],
   "source": [
    "less_5, longer_5 = collect_statistics(pairs)"
   ]
  },
  {
   "cell_type": "code",
   "execution_count": 33,
   "metadata": {
    "collapsed": true
   },
   "outputs": [],
   "source": [
    "import numpy as np\n",
    "from matplotlib import pyplot as plt\n",
    "%matplotlib inline"
   ]
  },
  {
   "cell_type": "code",
   "execution_count": 40,
   "metadata": {
    "collapsed": true
   },
   "outputs": [],
   "source": [
    "h1 = np.histogram(less_5, bins=4)\n",
    "h2 = np.histogram(longer_5, bins=4)"
   ]
  },
  {
   "cell_type": "code",
   "execution_count": 42,
   "metadata": {},
   "outputs": [
    {
     "data": {
      "text/plain": [
       "(array([5213, 4501, 4248, 2172]), array([ 0.  ,  0.75,  1.5 ,  2.25,  3.  ]))"
      ]
     },
     "execution_count": 42,
     "metadata": {},
     "output_type": "execute_result"
    }
   ],
   "source": [
    "h1"
   ]
  },
  {
   "cell_type": "code",
   "execution_count": 43,
   "metadata": {},
   "outputs": [
    {
     "data": {
      "text/plain": [
       "(array([ 5213.,     0.,     0.,  4501.,     0.,     0.,  4248.,     0.,\n",
       "            0.,  2172.]),\n",
       " array([ 0. ,  0.3,  0.6,  0.9,  1.2,  1.5,  1.8,  2.1,  2.4,  2.7,  3. ]),\n",
       " <a list of 10 Patch objects>)"
      ]
     },
     "execution_count": 43,
     "metadata": {},
     "output_type": "execute_result"
    },
    {
     "data": {
      "image/png": "[encoded data removed]",
      "text/plain": [
       "<matplotlib.figure.Figure at 0x7f2c08674550>"
      ]
     },
     "metadata": {},
     "output_type": "display_data"
    }
   ],
   "source": [
    "plt.hist(less_5)"
   ]
  },
  {
   "cell_type": "code",
   "execution_count": 44,
   "metadata": {},
   "outputs": [
    {
     "data": {
      "text/plain": [
       "(array([  2.39000000e+03,   3.92700000e+03,   5.30200000e+03,\n",
       "          3.41700000e+03,   1.97700000e+03,   7.11000000e+02,\n",
       "          2.26000000e+02,   4.30000000e+01,   6.00000000e+00,\n",
       "          2.00000000e+00]),\n",
       " array([  0. ,   1.9,   3.8,   5.7,   7.6,   9.5,  11.4,  13.3,  15.2,\n",
       "         17.1,  19. ]),\n",
       " <a list of 10 Patch objects>)"
      ]
     },
     "execution_count": 44,
     "metadata": {},
     "output_type": "execute_result"
    },
    {
     "data": {
      "image/png": "[encoded data removed]",
      "text/plain": [
       "<matplotlib.figure.Figure at 0x7f2c085f58d0>"
      ]
     },
     "metadata": {},
     "output_type": "display_data"
    }
   ],
   "source": [
    "plt.hist(longer_5)"
   ]
  },
  {
   "cell_type": "code",
   "execution_count": null,
   "metadata": {
    "collapsed": true
   },
   "outputs": [],
   "source": []
  }
 ],
 "metadata": {
  "kernelspec": {
   "display_name": "Python [default]",
   "language": "python",
   "name": "python3"
  }
 },
 "nbformat": 4,
 "nbformat_minor": 2
}
